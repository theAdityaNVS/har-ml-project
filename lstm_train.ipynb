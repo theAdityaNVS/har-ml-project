{
  "cells": [
    {
      "cell_type": "markdown",
      "metadata": {
        "id": "mVsES-v3Q61J"
      },
      "source": [
        "**Get the training dataset**"
      ]
    },
    {
      "cell_type": "code",
      "execution_count": null,
      "metadata": {
        "execution": {
          "iopub.execute_input": "2021-05-29T07:11:36.390529Z",
          "iopub.status.busy": "2021-05-29T07:11:36.389814Z",
          "iopub.status.idle": "2021-05-29T07:11:38.883822Z",
          "shell.execute_reply": "2021-05-29T07:11:38.882950Z",
          "shell.execute_reply.started": "2021-05-29T07:11:36.390416Z"
        },
        "id": "PLV69QzQ-kVK",
        "trusted": true
      },
      "outputs": [],
      "source": [
        "!wget -O RNN-HAR-2D-Pose-database.zip https://drive.google.com/u/1/uc?id=1IuZlyNjg6DMQE3iaO1Px6h1yLKgatynt"
      ]
    },
    {
      "cell_type": "code",
      "execution_count": null,
      "metadata": {
        "execution": {
          "iopub.execute_input": "2021-05-29T07:11:42.707287Z",
          "iopub.status.busy": "2021-05-29T07:11:42.706932Z",
          "iopub.status.idle": "2021-05-29T07:11:44.597718Z",
          "shell.execute_reply": "2021-05-29T07:11:44.596766Z",
          "shell.execute_reply.started": "2021-05-29T07:11:42.707248Z"
        },
        "id": "KJqLvT66-kVO",
        "trusted": true
      },
      "outputs": [],
      "source": [
        "!unzip RNN-HAR-2D-Pose-database.zip"
      ]
    },
    {
      "cell_type": "markdown",
      "metadata": {
        "id": "QhGBWtkx30Cc"
      },
      "source": [
        "**List first two rows of training set**"
      ]
    },
    {
      "cell_type": "code",
      "execution_count": null,
      "metadata": {
        "execution": {
          "iopub.execute_input": "2021-05-29T07:11:46.128760Z",
          "iopub.status.busy": "2021-05-29T07:11:46.128436Z",
          "iopub.status.idle": "2021-05-29T07:11:46.754048Z",
          "shell.execute_reply": "2021-05-29T07:11:46.753151Z",
          "shell.execute_reply.started": "2021-05-29T07:11:46.128724Z"
        },
        "id": "uybUnvcB-kVO",
        "trusted": true
      },
      "outputs": [],
      "source": [
        "!head -2 /content/RNN-HAR-2D-Pose-database/X_train.txt"
      ]
    },
    {
      "cell_type": "markdown",
      "metadata": {
        "id": "6EdcBQwM37Nk"
      },
      "source": [
        "**Clone the codebase**"
      ]
    },
    {
      "cell_type": "code",
      "execution_count": null,
      "metadata": {
        "id": "abXrCrq5VLzC"
      },
      "outputs": [],
      "source": [
        "!git clone https://github.com/theAdityaNVS/har-ml-project"
      ]
    },
    {
      "cell_type": "markdown",
      "metadata": {
        "id": "9EPCTILC4By9"
      },
      "source": [
        "**Install dependencies**"
      ]
    },
    {
      "cell_type": "code",
      "execution_count": null,
      "metadata": {
        "id": "IvTaV-7EdTZK"
      },
      "outputs": [],
      "source": [
        "!pip install -r requirements.txt"
      ]
    },
    {
      "cell_type": "code",
      "execution_count": 7,
      "metadata": {
        "execution": {
          "iopub.execute_input": "2021-05-29T04:01:31.558298Z",
          "iopub.status.busy": "2021-05-29T04:01:31.55795Z",
          "iopub.status.idle": "2021-05-29T04:01:31.567527Z",
          "shell.execute_reply": "2021-05-29T04:01:31.566508Z",
          "shell.execute_reply.started": "2021-05-29T04:01:31.558264Z"
        },
        "id": "O76fJqh4-kVQ",
        "trusted": true
      },
      "outputs": [],
      "source": [
        "DATASET_PATH = \"/content/RNN-HAR-2D-Pose-database/\""
      ]
    },
    {
      "cell_type": "code",
      "execution_count": 8,
      "metadata": {
        "id": "MXn088-y-kVV"
      },
      "outputs": [],
      "source": [
        "from argparse import ArgumentParser\n",
        "\n",
        "def configuration_parser(parent_parser):\n",
        "    parser = ArgumentParser(parents=[parent_parser], add_help=False)\n",
        "    parser.add_argument('--batch_size', type=int, default=512)\n",
        "    parser.add_argument('--epochs', type=int, default=400)\n",
        "    parser.add_argument('--data_root', type=str, default=DATASET_PATH)\n",
        "    parser.add_argument('--learning_rate', type=float, default=0.0001)\n",
        "    parser.add_argument('--num_class', type=int, default=6)\n",
        "    return parser"
      ]
    },
    {
      "cell_type": "code",
      "execution_count": 9,
      "metadata": {
        "id": "2_z9k1kpdm76"
      },
      "outputs": [],
      "source": [
        "import pytorch_lightning as pl\n",
        "from pytorch_lightning.callbacks import EarlyStopping\n",
        "from pytorch_lightning.callbacks import ModelCheckpoint\n",
        "from pytorch_lightning.callbacks import LearningRateMonitor\n",
        "\n",
        "from src.lstm import ActionClassificationLSTM, PoseDataModule"
      ]
    },
    {
      "cell_type": "code",
      "execution_count": 10,
      "metadata": {
        "execution": {
          "iopub.execute_input": "2021-05-29T04:25:35.39782Z",
          "iopub.status.busy": "2021-05-29T04:25:35.397483Z",
          "iopub.status.idle": "2021-05-29T04:25:35.405174Z",
          "shell.execute_reply": "2021-05-29T04:25:35.404287Z",
          "shell.execute_reply.started": "2021-05-29T04:25:35.397769Z"
        },
        "id": "0CZuCJRg-kVV",
        "trusted": true
      },
      "outputs": [],
      "source": [
        "def do_training_validation():\n",
        "    pl.seed_everything(21)    \n",
        "    parser = ArgumentParser()\n",
        "    parser = pl.Trainer.add_argparse_args(parser)\n",
        "    parser = configuration_parser(parser)\n",
        "    # args = parser.parse_args()\n",
        "    args, unknown = parser.parse_known_args()\n",
        "    # init model    \n",
        "    model = ActionClassificationLSTM(34, 50, learning_rate=args.learning_rate)\n",
        "    data_module = PoseDataModule(data_root=args.data_root,\n",
        "                                        batch_size=args.batch_size)    \n",
        "    #save only the top 1 model based on val_loss\n",
        "    checkpoint_callback = ModelCheckpoint(save_top_k=1, monitor='val_loss')\n",
        "    lr_monitor = LearningRateMonitor(logging_interval='step')  \n",
        "    #trainer\n",
        "    trainer = pl.Trainer.from_argparse_args(args,\n",
        "        # fast_dev_run=True,\n",
        "        max_epochs=args.epochs, \n",
        "        deterministic=True, \n",
        "        gpus=1, \n",
        "        progress_bar_refresh_rate=1, \n",
        "        callbacks=[EarlyStopping(monitor='train_loss', patience=15), checkpoint_callback, lr_monitor])    \n",
        "    trainer.fit(model, data_module)    \n",
        "    return model"
      ]
    },
    {
      "cell_type": "code",
      "execution_count": null,
      "metadata": {
        "execution": {
          "iopub.execute_input": "2021-05-29T04:36:06.551136Z",
          "iopub.status.busy": "2021-05-29T04:36:06.55077Z",
          "iopub.status.idle": "2021-05-29T04:36:11.619328Z",
          "shell.execute_reply": "2021-05-29T04:36:11.618555Z",
          "shell.execute_reply.started": "2021-05-29T04:36:06.551103Z"
        },
        "id": "UJ_sXo0A-kVW",
        "trusted": true
      },
      "outputs": [],
      "source": [
        "# To reload tensorBoard\n",
        "%load_ext tensorboard\n",
        "\n",
        "# logs folder path\n",
        "%tensorboard --logdir=lightning_logs"
      ]
    },
    {
      "cell_type": "markdown",
      "metadata": {
        "id": "ADP5wmLg6IZP"
      },
      "source": [
        "**Training**\n",
        "\n"
      ]
    },
    {
      "cell_type": "code",
      "execution_count": null,
      "metadata": {
        "execution": {
          "iopub.execute_input": "2021-05-29T04:36:11.621361Z",
          "iopub.status.busy": "2021-05-29T04:36:11.621096Z",
          "iopub.status.idle": "2021-05-29T04:45:13.911132Z",
          "shell.execute_reply": "2021-05-29T04:45:13.910273Z",
          "shell.execute_reply.started": "2021-05-29T04:36:11.621335Z"
        },
        "id": "rdzRoVss-kVW",
        "trusted": true
      },
      "outputs": [],
      "source": [
        "do_training_validation()"
      ]
    },
    {
      "cell_type": "markdown",
      "metadata": {
        "id": "yavid8PmQomU"
      },
      "source": [
        "**Get the saved model**"
      ]
    },
    {
      "cell_type": "code",
      "execution_count": 13,
      "metadata": {
        "id": "hNpzUaKstXPk"
      },
      "outputs": [],
      "source": [
        "import os\n",
        "def get_latest_run_version_ckpt_epoch_no(lightning_logs_dir='lightning_logs', run_version=None):\n",
        "    if run_version is None:\n",
        "        run_version = 0\n",
        "        for dir_name in os.listdir(lightning_logs_dir):\n",
        "            if 'version' in dir_name:\n",
        "                if int(dir_name.split('_')[1]) > run_version:\n",
        "                    run_version = int(dir_name.split('_')[1])                \n",
        "    checkpoints_dir = os.path.join(lightning_logs_dir, 'version_{}'.format(run_version), 'checkpoints')    \n",
        "    files = os.listdir(checkpoints_dir)\n",
        "    ckpt_filename = None\n",
        "    for file in files:\n",
        "        print(file)\n",
        "        if file.endswith('.ckpt'):\n",
        "            ckpt_filename = file        \n",
        "    if ckpt_filename is not None:\n",
        "        ckpt_path = os.path.join(checkpoints_dir, ckpt_filename)\n",
        "    else:\n",
        "        print('CKPT file is not present')    \n",
        "    return ckpt_path"
      ]
    },
    {
      "cell_type": "code",
      "execution_count": null,
      "metadata": {
        "id": "zp9tPEaXylfh"
      },
      "outputs": [],
      "source": [
        "ckpt_path = get_latest_run_version_ckpt_epoch_no()\n",
        "print('The latest model path: {}'.format(ckpt_path))"
      ]
    }
  ],
  "metadata": {
    "accelerator": "GPU",
    "colab": {
      "name": "lstm_train.ipynb",
      "provenance": []
    },
    "kernelspec": {
      "display_name": "Python 3",
      "language": "python",
      "name": "python3"
    },
    "language_info": {
      "codemirror_mode": {
        "name": "ipython",
        "version": 3
      },
      "file_extension": ".py",
      "mimetype": "text/x-python",
      "name": "python",
      "nbconvert_exporter": "python",
      "pygments_lexer": "ipython3",
      "version": "3.7.10"
    }
  },
  "nbformat": 4,
  "nbformat_minor": 0
}
