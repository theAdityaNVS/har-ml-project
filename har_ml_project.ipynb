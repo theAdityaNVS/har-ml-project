{
  "cells": [
    {
      "cell_type": "markdown",
      "metadata": {
        "id": "ngnLYRCIBokG"
      },
      "source": [
        "**Import the code**"
      ]
    },
    {
      "cell_type": "code",
      "execution_count": 1,
      "metadata": {
        "colab": {
          "base_uri": "https://localhost:8080/"
        },
        "id": "LMKtLhhDJbxM",
        "outputId": "7d554243-be41-43bf-8d00-661af4470674"
      },
      "outputs": [
        {
          "name": "stdout",
          "output_type": "stream",
          "text": [
            "Cloning into 'har-ml-project'...\n",
            "remote: Enumerating objects: 40, done.\u001b[K\n",
            "remote: Counting objects: 100% (40/40), done.\u001b[K\n",
            "remote: Compressing objects: 100% (24/24), done.\u001b[K\n",
            "remote: Total 40 (delta 14), reused 37 (delta 11), pack-reused 0\u001b[K\n",
            "Unpacking objects: 100% (40/40), done.\n"
          ]
        }
      ],
      "source": [
        "!git clone https://github.com/theAdityaNVS/har-ml-project"
      ]
    },
    {
      "cell_type": "code",
      "execution_count": 2,
      "metadata": {
        "colab": {
          "base_uri": "https://localhost:8080/"
        },
        "id": "wtLI80Zam2tu",
        "outputId": "f7c50f6d-6afe-4f51-fc01-813fb9593f38"
      },
      "outputs": [
        {
          "name": "stdout",
          "output_type": "stream",
          "text": [
            "/content/har-ml-project\n"
          ]
        }
      ],
      "source": [
        "cd ./har-ml-project"
      ]
    },
    {
      "cell_type": "markdown",
      "metadata": {
        "id": "yTLCWef_fric"
      },
      "source": [
        "**Optional: Link and Mount GDrive storage**"
      ]
    },
    {
      "cell_type": "code",
      "execution_count": null,
      "metadata": {
        "id": "wQg6UW_0PmPA"
      },
      "outputs": [],
      "source": [
        "# link to google drive\n",
        "\n",
        "# from google.colab import drive\n",
        "# drive.mount('/content/gdrive/')\n"
      ]
    },
    {
      "cell_type": "markdown",
      "metadata": {
        "id": "Z2uLPe4lBva0"
      },
      "source": [
        "**Install dependencies**"
      ]
    },
    {
      "cell_type": "code",
      "execution_count": null,
      "metadata": {
        "id": "HSmL-mcBNwVy"
      },
      "outputs": [],
      "source": [
        "!pip install -r requirements.txt"
      ]
    },
    {
      "cell_type": "markdown",
      "metadata": {
        "id": "7UZwJol0BjEd"
      },
      "source": [
        "**Install Detectron2**"
      ]
    },
    {
      "cell_type": "code",
      "execution_count": null,
      "metadata": {
        "id": "b8-t47lVLSFl"
      },
      "outputs": [],
      "source": [
        "import torch\n",
        "assert torch.__version__.startswith(\"1.8\")   # need to manually install torch 1.8 if Colab changes its default version\n",
        "!pip install detectron2 -f https://dl.fbaipublicfiles.com/detectron2/wheels/cu101/torch1.8/index.html"
      ]
    },
    {
      "cell_type": "markdown",
      "metadata": {
        "id": "RoSs4KvnRT4F"
      },
      "source": [
        "**Install ngrok for tunneling to the web application we are about to run on colab**"
      ]
    },
    {
      "cell_type": "code",
      "execution_count": 2,
      "metadata": {
        "colab": {
          "base_uri": "https://localhost:8080/"
        },
        "id": "TyVT0SqKLgso",
        "outputId": "a4bc32ae-b881-4e74-d86f-bd98af36d08b"
      },
      "outputs": [
        {
          "name": "stdout",
          "output_type": "stream",
          "text": [
            "--2022-03-09 18:20:58--  https://bin.equinox.io/c/4VmDzA7iaHb/ngrok-stable-linux-amd64.zip\n",
            "Resolving bin.equinox.io (bin.equinox.io)... 52.202.168.65, 18.205.222.128, 54.161.241.46, ...\n",
            "Connecting to bin.equinox.io (bin.equinox.io)|52.202.168.65|:443... connected.\n",
            "HTTP request sent, awaiting response... 200 OK\n",
            "Length: 13832437 (13M) [application/octet-stream]\n",
            "Saving to: ‘ngrok-stable-linux-amd64.zip’\n",
            "\n",
            "ngrok-stable-linux- 100%[===================>]  13.19M  14.5MB/s    in 0.9s    \n",
            "\n",
            "2022-03-09 18:20:59 (14.5 MB/s) - ‘ngrok-stable-linux-amd64.zip’ saved [13832437/13832437]\n",
            "\n",
            "Archive:  ngrok-stable-linux-amd64.zip\n",
            "  inflating: ngrok                   \n"
          ]
        }
      ],
      "source": [
        "# Download ngrok for tunneling.\n",
        "!if [ ! -f ./ngrok ]; then \\\n",
        " wget https://bin.equinox.io/c/4VmDzA7iaHb/ngrok-stable-linux-amd64.zip; \\\n",
        " unzip -o ngrok-stable-linux-amd64.zip; \\\n",
        " fi"
      ]
    },
    {
      "cell_type": "markdown",
      "metadata": {
        "id": "JX0qZdlRfTpj"
      },
      "source": [
        "**Setting Up Ngrok**"
      ]
    },
    {
      "cell_type": "code",
      "execution_count": 3,
      "metadata": {
        "colab": {
          "base_uri": "https://localhost:8080/"
        },
        "id": "_xxeJW08P37r",
        "outputId": "4dbe2e26-7cc4-47cf-ca9d-decec7d7467a"
      },
      "outputs": [
        {
          "name": "stdout",
          "output_type": "stream",
          "text": [
            "Get your authtoken from https://dashboard.ngrok.com/auth\n",
            "··········\n"
          ]
        }
      ],
      "source": [
        "#Setup Ngrok - authtoken\n",
        "\n",
        "#Asking token\n",
        "print(\"Get your authtoken from https://dashboard.ngrok.com/auth\")\n",
        "import getpass\n",
        "authtoken = getpass.getpass()\n",
        "\n",
        "#Creating tunnel\n",
        "get_ipython().system_raw('./ngrok authtoken $authtoken && ./ngrok tcp 22 &')"
      ]
    },
    {
      "cell_type": "markdown",
      "metadata": {
        "id": "qPRhmOLafkS8"
      },
      "source": [
        "**Starting Web Server**"
      ]
    },
    {
      "cell_type": "code",
      "execution_count": 4,
      "metadata": {
        "id": "hMxzllRCLkoz"
      },
      "outputs": [],
      "source": [
        "# Then start a mini web server.\n",
        "port = 5000\n",
        "!pkill ngrok\n",
        "!kill $(ps x | grep -v grep | grep http.server | awk '{print $1}') 2>/dev/null\n",
        "\n",
        "get_ipython().system_raw(\n",
        "    'python app.py && python3 -m http.server {} &'\n",
        "    .format(port)\n",
        ")\n",
        "\n",
        "# And, forward the port using ngrok.\n",
        "get_ipython().system_raw('./ngrok http {} &'.format(port))"
      ]
    },
    {
      "cell_type": "markdown",
      "metadata": {
        "id": "qWbee0wJRjSH"
      },
      "source": [
        "**Copy the app url generated from the below step**"
      ]
    },
    {
      "cell_type": "code",
      "execution_count": 5,
      "metadata": {
        "colab": {
          "base_uri": "https://localhost:8080/",
          "height": 35
        },
        "id": "QK-kQbr6LohX",
        "outputId": "3e60a9d1-a501-4654-8a37-303320104269"
      },
      "outputs": [
        {
          "data": {
            "application/vnd.google.colaboratory.intrinsic+json": {
              "type": "string"
            },
            "text/plain": [
              "'https://1a30-35-240-23-243.ngrok.io'"
            ]
          },
          "execution_count": 5,
          "metadata": {},
          "output_type": "execute_result"
        }
      ],
      "source": [
        "# Get the public address from localhost:4040 (ngrok's web interface).\n",
        "import time, urllib, json\n",
        "import urllib.request\n",
        "time.sleep(1)  # Give ngrok time to startup.\n",
        "ngrok_data = json.load(\n",
        "    urllib.request.urlopen('http://localhost:4040/api/tunnels'))\n",
        "ngrok_data['tunnels'][0]['public_url']"
      ]
    },
    {
      "cell_type": "markdown",
      "metadata": {
        "id": "B7p6qdIE6D7Y"
      },
      "source": [
        "**If Server Gives Error**"
      ]
    },
    {
      "cell_type": "code",
      "execution_count": null,
      "metadata": {
        "id": "6xW7mxo638Di"
      },
      "outputs": [],
      "source": [
        "!kill -9 $(ps -A | grep python | awk '{print $1}')"
      ]
    },
    {
      "cell_type": "markdown",
      "metadata": {
        "id": "SoTjyCB0SJi_"
      },
      "source": [
        "**Run the application**"
      ]
    },
    {
      "cell_type": "code",
      "execution_count": null,
      "metadata": {
        "colab": {
          "base_uri": "https://localhost:8080/"
        },
        "id": "QfsEeQCOLteG",
        "outputId": "f23bb3ea-e8c5-4045-aaeb-65f1ee037130"
      },
      "outputs": [
        {
          "name": "stdout",
          "output_type": "stream",
          "text": [
            "Detectron model loaded in  3.649057388305664\n",
            " * Serving Flask app \"app\" (lazy loading)\n",
            " * Environment: production\n",
            "\u001b[31m   WARNING: This is a development server. Do not use it in a production deployment.\u001b[0m\n",
            "\u001b[2m   Use a production WSGI server instead.\u001b[0m\n",
            " * Debug mode: on\n",
            " * Running on http://127.0.0.1:5000/ (Press CTRL+C to quit)\n",
            " * Restarting with stat\n",
            "Detectron model loaded in  3.468873977661133\n",
            " * Debugger is active!\n",
            " * Debugger PIN: 245-845-944\n",
            "127.0.0.1 - - [09/Mar/2022 18:22:18] \"\u001b[37mGET /files/sample_video.mp4 HTTP/1.1\u001b[0m\" 206 -\n",
            "127.0.0.1 - - [09/Mar/2022 18:22:19] \"\u001b[37mGET /files/sample_video.mp4 HTTP/1.1\u001b[0m\" 206 -\n",
            "127.0.0.1 - - [09/Mar/2022 18:22:21] \"\u001b[1m\u001b[35mPOST /sample HTTP/1.1\u001b[0m\" 500 -\n",
            "Traceback (most recent call last):\n",
            "  File \"/usr/local/lib/python3.7/dist-packages/flask/app.py\", line 2464, in __call__\n",
            "    return self.wsgi_app(environ, start_response)\n",
            "  File \"/usr/local/lib/python3.7/dist-packages/flask/app.py\", line 2450, in wsgi_app\n",
            "    response = self.handle_exception(e)\n",
            "  File \"/usr/local/lib/python3.7/dist-packages/flask/app.py\", line 1867, in handle_exception\n",
            "    reraise(exc_type, exc_value, tb)\n",
            "  File \"/usr/local/lib/python3.7/dist-packages/flask/_compat.py\", line 39, in reraise\n",
            "    raise value\n",
            "  File \"/usr/local/lib/python3.7/dist-packages/flask/app.py\", line 2447, in wsgi_app\n",
            "    response = self.full_dispatch_request()\n",
            "  File \"/usr/local/lib/python3.7/dist-packages/flask/app.py\", line 1952, in full_dispatch_request\n",
            "    rv = self.handle_user_exception(e)\n",
            "  File \"/usr/local/lib/python3.7/dist-packages/flask/app.py\", line 1821, in handle_user_exception\n",
            "    reraise(exc_type, exc_value, tb)\n",
            "  File \"/usr/local/lib/python3.7/dist-packages/flask/_compat.py\", line 39, in reraise\n",
            "    raise value\n",
            "  File \"/usr/local/lib/python3.7/dist-packages/flask/app.py\", line 1950, in full_dispatch_request\n",
            "    rv = self.dispatch_request()\n",
            "  File \"/usr/local/lib/python3.7/dist-packages/flask/app.py\", line 1936, in dispatch_request\n",
            "    return self.view_functions[rule.endpoint](**req.view_args)\n",
            "  File \"/content/har-ml-project/app.py\", line 99, in sample\n",
            "    return render_template('/index.html', obj=obj)\n",
            "  File \"/usr/local/lib/python3.7/dist-packages/flask/templating.py\", line 140, in render_template\n",
            "    ctx.app,\n",
            "  File \"/usr/local/lib/python3.7/dist-packages/flask/templating.py\", line 120, in _render\n",
            "    rv = template.render(context)\n",
            "  File \"/usr/local/lib/python3.7/dist-packages/jinja2/environment.py\", line 1090, in render\n",
            "    self.environment.handle_exception()\n",
            "  File \"/usr/local/lib/python3.7/dist-packages/jinja2/environment.py\", line 832, in handle_exception\n",
            "    reraise(*rewrite_traceback_stack(source=source))\n",
            "  File \"/usr/local/lib/python3.7/dist-packages/jinja2/_compat.py\", line 28, in reraise\n",
            "    raise value.with_traceback(tb)\n",
            "  File \"/content/har-ml-project/templates/index.html\", line 59, in top-level template code\n",
            "    $('#result div').prepend('<img src=\"{{ url_for('\n",
            "  File \"/usr/local/lib/python3.7/dist-packages/flask/helpers.py\", line 370, in url_for\n",
            "    return appctx.app.handle_url_build_error(error, endpoint, values)\n",
            "  File \"/usr/local/lib/python3.7/dist-packages/flask/app.py\", line 2216, in handle_url_build_error\n",
            "    reraise(exc_type, exc_value, tb)\n",
            "  File \"/usr/local/lib/python3.7/dist-packages/flask/_compat.py\", line 39, in reraise\n",
            "    raise value\n",
            "  File \"/usr/local/lib/python3.7/dist-packages/flask/helpers.py\", line 358, in url_for\n",
            "    endpoint, values, method=method, force_external=external\n",
            "  File \"/usr/local/lib/python3.7/dist-packages/werkzeug/routing.py\", line 2020, in build\n",
            "    raise BuildError(endpoint, values, method, self)\n",
            "werkzeug.routing.BuildError: Could not build url for endpoint '\\n                        get_result_video ' with values ['filename']. Did you mean 'get_result_video' instead?\n",
            "127.0.0.1 - - [09/Mar/2022 18:22:22] \"\u001b[37mGET /sample?__debugger__=yes&cmd=resource&f=style.css HTTP/1.1\u001b[0m\" 200 -\n",
            "127.0.0.1 - - [09/Mar/2022 18:22:22] \"\u001b[37mGET /sample?__debugger__=yes&cmd=resource&f=jquery.js HTTP/1.1\u001b[0m\" 200 -\n",
            "127.0.0.1 - - [09/Mar/2022 18:22:22] \"\u001b[37mGET /sample?__debugger__=yes&cmd=resource&f=debugger.js HTTP/1.1\u001b[0m\" 200 -\n",
            "127.0.0.1 - - [09/Mar/2022 18:22:23] \"\u001b[37mGET /sample?__debugger__=yes&cmd=resource&f=ubuntu.ttf HTTP/1.1\u001b[0m\" 200 -\n",
            "127.0.0.1 - - [09/Mar/2022 18:22:23] \"\u001b[37mGET /sample?__debugger__=yes&cmd=resource&f=console.png HTTP/1.1\u001b[0m\" 200 -\n",
            "127.0.0.1 - - [09/Mar/2022 18:22:23] \"\u001b[37mGET /sample?__debugger__=yes&cmd=resource&f=console.png HTTP/1.1\u001b[0m\" 200 -\n",
            "127.0.0.1 - - [09/Mar/2022 18:23:04] \"\u001b[37mGET /files/sample_video.mp4 HTTP/1.1\u001b[0m\" 206 -\n",
            "127.0.0.1 - - [09/Mar/2022 18:23:04] \"\u001b[37mGET /files/sample_video.mp4 HTTP/1.1\u001b[0m\" 206 -\n",
            "127.0.0.1 - - [09/Mar/2022 18:23:05] \"\u001b[37mGET /files/sample_video.mp4 HTTP/1.1\u001b[0m\" 206 -\n",
            "127.0.0.1 - - [09/Mar/2022 18:23:08] \"\u001b[1m\u001b[35mPOST /sample HTTP/1.1\u001b[0m\" 500 -\n",
            "Traceback (most recent call last):\n",
            "  File \"/usr/local/lib/python3.7/dist-packages/flask/app.py\", line 2464, in __call__\n",
            "    return self.wsgi_app(environ, start_response)\n",
            "  File \"/usr/local/lib/python3.7/dist-packages/flask/app.py\", line 2450, in wsgi_app\n",
            "    response = self.handle_exception(e)\n",
            "  File \"/usr/local/lib/python3.7/dist-packages/flask/app.py\", line 1867, in handle_exception\n",
            "    reraise(exc_type, exc_value, tb)\n",
            "  File \"/usr/local/lib/python3.7/dist-packages/flask/_compat.py\", line 39, in reraise\n",
            "    raise value\n",
            "  File \"/usr/local/lib/python3.7/dist-packages/flask/app.py\", line 2447, in wsgi_app\n",
            "    response = self.full_dispatch_request()\n",
            "  File \"/usr/local/lib/python3.7/dist-packages/flask/app.py\", line 1952, in full_dispatch_request\n",
            "    rv = self.handle_user_exception(e)\n",
            "  File \"/usr/local/lib/python3.7/dist-packages/flask/app.py\", line 1821, in handle_user_exception\n",
            "    reraise(exc_type, exc_value, tb)\n",
            "  File \"/usr/local/lib/python3.7/dist-packages/flask/_compat.py\", line 39, in reraise\n",
            "    raise value\n",
            "  File \"/usr/local/lib/python3.7/dist-packages/flask/app.py\", line 1950, in full_dispatch_request\n",
            "    rv = self.dispatch_request()\n",
            "  File \"/usr/local/lib/python3.7/dist-packages/flask/app.py\", line 1936, in dispatch_request\n",
            "    return self.view_functions[rule.endpoint](**req.view_args)\n",
            "  File \"/content/har-ml-project/app.py\", line 99, in sample\n",
            "    return render_template('/index.html', obj=obj)\n",
            "  File \"/usr/local/lib/python3.7/dist-packages/flask/templating.py\", line 140, in render_template\n",
            "    ctx.app,\n",
            "  File \"/usr/local/lib/python3.7/dist-packages/flask/templating.py\", line 120, in _render\n",
            "    rv = template.render(context)\n",
            "  File \"/usr/local/lib/python3.7/dist-packages/jinja2/environment.py\", line 1090, in render\n",
            "    self.environment.handle_exception()\n",
            "  File \"/usr/local/lib/python3.7/dist-packages/jinja2/environment.py\", line 832, in handle_exception\n",
            "    reraise(*rewrite_traceback_stack(source=source))\n",
            "  File \"/usr/local/lib/python3.7/dist-packages/jinja2/_compat.py\", line 28, in reraise\n",
            "    raise value.with_traceback(tb)\n",
            "  File \"/content/har-ml-project/templates/index.html\", line 59, in top-level template code\n",
            "    $('#result div').prepend('<img src=\"{{ url_for('\n",
            "  File \"/usr/local/lib/python3.7/dist-packages/flask/helpers.py\", line 370, in url_for\n",
            "    return appctx.app.handle_url_build_error(error, endpoint, values)\n",
            "  File \"/usr/local/lib/python3.7/dist-packages/flask/app.py\", line 2216, in handle_url_build_error\n",
            "    reraise(exc_type, exc_value, tb)\n",
            "  File \"/usr/local/lib/python3.7/dist-packages/flask/_compat.py\", line 39, in reraise\n",
            "    raise value\n",
            "  File \"/usr/local/lib/python3.7/dist-packages/flask/helpers.py\", line 358, in url_for\n",
            "    endpoint, values, method=method, force_external=external\n",
            "  File \"/usr/local/lib/python3.7/dist-packages/werkzeug/routing.py\", line 2020, in build\n",
            "    raise BuildError(endpoint, values, method, self)\n",
            "werkzeug.routing.BuildError: Could not build url for endpoint '\\n                        get_result_video ' with values ['filename']. Did you mean 'get_result_video' instead?\n",
            "127.0.0.1 - - [09/Mar/2022 18:23:09] \"\u001b[37mGET /sample?__debugger__=yes&cmd=resource&f=style.css HTTP/1.1\u001b[0m\" 200 -\n",
            "127.0.0.1 - - [09/Mar/2022 18:23:09] \"\u001b[37mGET /sample?__debugger__=yes&cmd=resource&f=jquery.js HTTP/1.1\u001b[0m\" 200 -\n",
            "127.0.0.1 - - [09/Mar/2022 18:23:09] \"\u001b[37mGET /sample?__debugger__=yes&cmd=resource&f=debugger.js HTTP/1.1\u001b[0m\" 200 -\n",
            "127.0.0.1 - - [09/Mar/2022 18:23:09] \"\u001b[37mGET /sample?__debugger__=yes&cmd=resource&f=ubuntu.ttf HTTP/1.1\u001b[0m\" 200 -\n",
            "127.0.0.1 - - [09/Mar/2022 18:23:09] \"\u001b[37mGET /sample?__debugger__=yes&cmd=resource&f=console.png HTTP/1.1\u001b[0m\" 200 -\n",
            "127.0.0.1 - - [09/Mar/2022 18:23:10] \"\u001b[37mGET /sample?__debugger__=yes&cmd=resource&f=console.png HTTP/1.1\u001b[0m\" 200 -\n",
            "127.0.0.1 - - [09/Mar/2022 18:23:15] \"\u001b[33mGET /result HTTP/1.1\u001b[0m\" 404 -\n",
            "127.0.0.1 - - [09/Mar/2022 18:23:21] \"\u001b[33mGET /progress HTTP/1.1\u001b[0m\" 404 -\n",
            "127.0.0.1 - - [09/Mar/2022 18:23:28] \"\u001b[37mGET /sample?__debugger__=yes&cmd=resource&f=console.png HTTP/1.1\u001b[0m\" 200 -\n",
            "127.0.0.1 - - [09/Mar/2022 18:23:32] \"\u001b[33mGET /favicon.ico HTTP/1.1\u001b[0m\" 404 -\n",
            "127.0.0.1 - - [09/Mar/2022 18:23:32] \"\u001b[37mGET /files/sample_video.mp4 HTTP/1.1\u001b[0m\" 206 -\n",
            "127.0.0.1 - - [09/Mar/2022 18:23:34] \"\u001b[1m\u001b[35mPOST /sample HTTP/1.1\u001b[0m\" 500 -\n",
            "Traceback (most recent call last):\n",
            "  File \"/usr/local/lib/python3.7/dist-packages/flask/app.py\", line 2464, in __call__\n",
            "    return self.wsgi_app(environ, start_response)\n",
            "  File \"/usr/local/lib/python3.7/dist-packages/flask/app.py\", line 2450, in wsgi_app\n",
            "    response = self.handle_exception(e)\n",
            "  File \"/usr/local/lib/python3.7/dist-packages/flask/app.py\", line 1867, in handle_exception\n",
            "    reraise(exc_type, exc_value, tb)\n",
            "  File \"/usr/local/lib/python3.7/dist-packages/flask/_compat.py\", line 39, in reraise\n",
            "    raise value\n",
            "  File \"/usr/local/lib/python3.7/dist-packages/flask/app.py\", line 2447, in wsgi_app\n",
            "    response = self.full_dispatch_request()\n",
            "  File \"/usr/local/lib/python3.7/dist-packages/flask/app.py\", line 1952, in full_dispatch_request\n",
            "    rv = self.handle_user_exception(e)\n",
            "  File \"/usr/local/lib/python3.7/dist-packages/flask/app.py\", line 1821, in handle_user_exception\n",
            "    reraise(exc_type, exc_value, tb)\n",
            "  File \"/usr/local/lib/python3.7/dist-packages/flask/_compat.py\", line 39, in reraise\n",
            "    raise value\n",
            "  File \"/usr/local/lib/python3.7/dist-packages/flask/app.py\", line 1950, in full_dispatch_request\n",
            "    rv = self.dispatch_request()\n",
            "  File \"/usr/local/lib/python3.7/dist-packages/flask/app.py\", line 1936, in dispatch_request\n",
            "    return self.view_functions[rule.endpoint](**req.view_args)\n",
            "  File \"/content/har-ml-project/app.py\", line 99, in sample\n",
            "    return render_template('/index.html', obj=obj)\n",
            "  File \"/usr/local/lib/python3.7/dist-packages/flask/templating.py\", line 140, in render_template\n",
            "    ctx.app,\n",
            "  File \"/usr/local/lib/python3.7/dist-packages/flask/templating.py\", line 120, in _render\n",
            "    rv = template.render(context)\n",
            "  File \"/usr/local/lib/python3.7/dist-packages/jinja2/environment.py\", line 1090, in render\n",
            "    self.environment.handle_exception()\n",
            "  File \"/usr/local/lib/python3.7/dist-packages/jinja2/environment.py\", line 832, in handle_exception\n",
            "    reraise(*rewrite_traceback_stack(source=source))\n",
            "  File \"/usr/local/lib/python3.7/dist-packages/jinja2/_compat.py\", line 28, in reraise\n",
            "    raise value.with_traceback(tb)\n",
            "  File \"/content/har-ml-project/templates/index.html\", line 59, in top-level template code\n",
            "    $('#result div').prepend('<img src=\"{{ url_for('\n",
            "  File \"/usr/local/lib/python3.7/dist-packages/flask/helpers.py\", line 370, in url_for\n",
            "    return appctx.app.handle_url_build_error(error, endpoint, values)\n",
            "  File \"/usr/local/lib/python3.7/dist-packages/flask/app.py\", line 2216, in handle_url_build_error\n",
            "    reraise(exc_type, exc_value, tb)\n",
            "  File \"/usr/local/lib/python3.7/dist-packages/flask/_compat.py\", line 39, in reraise\n",
            "    raise value\n",
            "  File \"/usr/local/lib/python3.7/dist-packages/flask/helpers.py\", line 358, in url_for\n",
            "    endpoint, values, method=method, force_external=external\n",
            "  File \"/usr/local/lib/python3.7/dist-packages/werkzeug/routing.py\", line 2020, in build\n",
            "    raise BuildError(endpoint, values, method, self)\n",
            "werkzeug.routing.BuildError: Could not build url for endpoint '\\n                        get_result_video ' with values ['filename']. Did you mean 'get_result_video' instead?\n",
            "127.0.0.1 - - [09/Mar/2022 18:23:36] \"\u001b[37mGET /sample?__debugger__=yes&cmd=resource&f=style.css HTTP/1.1\u001b[0m\" 200 -\n",
            "127.0.0.1 - - [09/Mar/2022 18:23:36] \"\u001b[37mGET /sample?__debugger__=yes&cmd=resource&f=debugger.js HTTP/1.1\u001b[0m\" 200 -\n",
            "127.0.0.1 - - [09/Mar/2022 18:23:36] \"\u001b[37mGET /sample?__debugger__=yes&cmd=resource&f=jquery.js HTTP/1.1\u001b[0m\" 200 -\n",
            "127.0.0.1 - - [09/Mar/2022 18:23:37] \"\u001b[37mGET /sample?__debugger__=yes&cmd=resource&f=ubuntu.ttf HTTP/1.1\u001b[0m\" 200 -\n",
            "127.0.0.1 - - [09/Mar/2022 18:23:37] \"\u001b[37mGET /sample?__debugger__=yes&cmd=resource&f=console.png HTTP/1.1\u001b[0m\" 200 -\n",
            "127.0.0.1 - - [09/Mar/2022 18:23:37] \"\u001b[37mGET /sample?__debugger__=yes&cmd=resource&f=console.png HTTP/1.1\u001b[0m\" 200 -\n",
            "127.0.0.1 - - [09/Mar/2022 18:23:44] \"\u001b[37mGET /sample?__debugger__=yes&cmd=resource&f=style.css HTTP/1.1\u001b[0m\" 200 -\n"
          ]
        }
      ],
      "source": [
        "!python app.py"
      ]
    },
    {
      "cell_type": "markdown",
      "metadata": {
        "id": "VW34PmwYSN5J"
      },
      "source": [
        "**Open the app url on browser to access the app**"
      ]
    }
  ],
  "metadata": {
    "accelerator": "GPU",
    "colab": {
      "collapsed_sections": [],
      "name": "har_ml_project.ipynb",
      "provenance": []
    },
    "kernelspec": {
      "display_name": "Python 3",
      "name": "python3"
    },
    "language_info": {
      "name": "python",
      "version": "3.9.10"
    }
  },
  "nbformat": 4,
  "nbformat_minor": 0
}
